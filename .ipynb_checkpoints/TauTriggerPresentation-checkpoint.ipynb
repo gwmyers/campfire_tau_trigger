{
 "cells": [
  {
   "cell_type": "code",
   "execution_count": 2,
   "metadata": {},
   "outputs": [],
   "source": [
    "# A check to see if environment variables are setup correctly:\n",
    "import sys, math, random, ROOT, uproot, torch\n",
    "import numpy as np"
   ]
  },
  {
   "cell_type": "code",
   "execution_count": 3,
   "metadata": {},
   "outputs": [
    {
     "name": "stdout",
     "output_type": "stream",
     "text": [
      "7812\n",
      "69049\n"
     ]
    }
   ],
   "source": [
    "# now do stuff:\n",
    "signal_file = ROOT.TFile(\"formatted/tau_signal.root\")\n",
    "signal_tree = signal_file.Get(\"signal\")\n",
    "\n",
    "background_file = ROOT.TFile(\"formatted/background.root\")\n",
    "background_tree = background_file.Get(\"background\")\n",
    "\n",
    "signal_entries = signal_tree.GetEntries()\n",
    "background_entries = background_tree.GetEntries()\n",
    "print(signal_entries)\n",
    "print(background_entries)\n",
    "#signal_tree.Print()"
   ]
  },
  {
   "cell_type": "code",
   "execution_count": 27,
   "metadata": {},
   "outputs": [],
   "source": [
    "signal_layer_ets = []\n",
    "background_layer_ets = []\n",
    "all_layer_ets = []\n",
    "all_truth = []\n",
    "\n",
    "for i in range(signal_entries):\n",
    "    signal_tree.GetEntry(i)\n",
    "    layer_ets = [signal_tree.L0EM, signal_tree.L1EM, signal_tree.L2EM, signal_tree.L3EM, signal_tree.LHAD]\n",
    "    layer_ets = [et / 1000. for et in layer_ets]\n",
    "    \n",
    "    signal_layer_ets.append(layer_ets)\n",
    "    all_layer_ets.append(layer_ets)\n",
    "    \n",
    "    all_truth.append(1)\n",
    "    \n",
    "    \n",
    "for i in range(background_entries):\n",
    "    background_tree.GetEntry(i)\n",
    "    layer_ets = [background_tree.L0EM, background_tree.L1EM, background_tree.L2EM, background_tree.L3EM, background_tree.LHAD]\n",
    "    layer_ets = [et / 1000. for et in layer_ets]\n",
    "    \n",
    "    background_layer_ets.append(layer_ets)\n",
    "    all_layer_ets.append(layer_ets)\n",
    "    \n",
    "    all_truth.append(0)"
   ]
  },
  {
   "cell_type": "code",
   "execution_count": 5,
   "metadata": {},
   "outputs": [],
   "source": [
    "# Create a histogram of reconstructed Et of all signal and background events\n",
    "h_signal = ROOT.TH1F(\"signal_recoEt\", \"signal_recoEt\", 100, -20, 100)\n",
    "h_signal.GetXaxis().SetTitle(\"Reconstructed Et\")\n",
    "h_signal.GetYaxis().SetTitle(\"Events\")\n",
    "\n",
    "h_background = ROOT.TH1F(\"background_recoEt\", \"background_recoEt\", 100, -20, 100)\n",
    "h_background.GetXaxis().SetTitle(\"Reconstructed Et\")\n",
    "h_background.GetYaxis().SetTitle(\"Events\")\n",
    "\n",
    "c = ROOT.TCanvas(\"c\", \"canvas\", 400, 400)"
   ]
  },
  {
   "cell_type": "code",
   "execution_count": 17,
   "metadata": {},
   "outputs": [
    {
     "name": "stdout",
     "output_type": "stream",
     "text": [
      "7812.0\n",
      "69049.0\n"
     ]
    }
   ],
   "source": [
    "h_signal.Reset()\n",
    "for event in signal_layer_ets:\n",
    "    h_signal.Fill(sum(event))\n",
    "print(h_signal.GetEntries())\n",
    "    \n",
    "h_background.Reset()\n",
    "for event in background_layer_ets:\n",
    "    h_background.Fill(sum(event))\n",
    "print(h_background.GetEntries())"
   ]
  },
  {
   "cell_type": "code",
   "execution_count": 18,
   "metadata": {},
   "outputs": [
    {
     "data": {
      "image/png": "[encoded data removed]",
      "text/plain": [
       "<IPython.core.display.Image object>"
      ]
     },
     "metadata": {},
     "output_type": "display_data"
    }
   ],
   "source": [
    "h_background.Draw()\n",
    "h_signal.Draw('same')\n",
    "h_signal.SetLineColor(2)\n",
    "c.SetLogy()\n",
    "c.Draw()"
   ]
  },
  {
   "cell_type": "code",
   "execution_count": 47,
   "metadata": {},
   "outputs": [
    {
     "name": "stdout",
     "output_type": "stream",
     "text": [
      "22.5625\n",
      "[7813. 7793. 7582. 7225. 6819. 6490. 6208. 5930. 5707. 5457. 5224. 5038.\n",
      " 4825. 4626. 4413. 4204. 4020. 3812. 3603. 3427. 3232. 3067. 2909. 2769.\n",
      " 2606. 2457. 2321. 2190. 2055. 1930. 1806. 1690. 1599. 1511. 1397. 1304.\n",
      " 1213. 1118. 1053. 1000.  921.  863.  803.  745.  713.  658.  621.  576.\n",
      "  543.  506.  469.  438.  413.  376.  353.  328.  300.  284.  261.  246.\n",
      "  225.  210.  200.  182.  168.  158.  150.  142.  132.  127.  122.  116.\n",
      "  111.  107.   97.   93.   89.   79.   77.   75.   74.   69.   66.   65.\n",
      "   64.   64.   60.   56.   56.   54.   51.   49.   46.   43.   40.   38.\n",
      "   38.   37.   36.   33.]\n",
      "[1.         0.99744016 0.97043389 0.92474082 0.87277614 0.83066684\n",
      " 0.79457315 0.75899142 0.73044925 0.6984513  0.66862921 0.64482273\n",
      " 0.61756048 0.59209011 0.56482785 0.53807756 0.51452707 0.48790477\n",
      " 0.46115449 0.43862793 0.41366953 0.39255088 0.37232817 0.35440932\n",
      " 0.33354665 0.31447587 0.29706899 0.28030206 0.26302317 0.24702419\n",
      " 0.23115321 0.21630616 0.2046589  0.19339562 0.17880456 0.16690132\n",
      " 0.15525406 0.14309484 0.13477537 0.12799181 0.11788046 0.11045693\n",
      " 0.10277742 0.0953539  0.09125816 0.08421861 0.07948291 0.07372328\n",
      " 0.06949955 0.06476386 0.06002816 0.05606041 0.05286062 0.04812492\n",
      " 0.04518111 0.04198131 0.03839754 0.03634967 0.03340586 0.03148598\n",
      " 0.02879816 0.02687828 0.02559836 0.02329451 0.02150262 0.02022271\n",
      " 0.01919877 0.01817484 0.01689492 0.01625496 0.015615   0.01484705\n",
      " 0.01420709 0.01369512 0.01241521 0.01190324 0.01139127 0.01011135\n",
      " 0.00985537 0.00959939 0.00947139 0.00883143 0.00844746 0.00831947\n",
      " 0.00819148 0.00819148 0.00767951 0.00716754 0.00716754 0.00691156\n",
      " 0.00652758 0.0062716  0.00588762 0.00550365 0.00511967 0.00486369\n",
      " 0.00486369 0.0047357  0.00460771 0.00422373]\n",
      "[6.1777e+04 5.8269e+04 5.4049e+04 4.9137e+04 4.4098e+04 3.9032e+04\n",
      " 3.4254e+04 2.9836e+04 2.5896e+04 2.2469e+04 1.9446e+04 1.6711e+04\n",
      " 1.4257e+04 1.2047e+04 1.0176e+04 8.5270e+03 7.1540e+03 5.8580e+03\n",
      " 4.8030e+03 3.9070e+03 3.0920e+03 2.4560e+03 1.9250e+03 1.4440e+03\n",
      " 1.1050e+03 8.5400e+02 6.4500e+02 5.0200e+02 3.7200e+02 3.1400e+02\n",
      " 2.5800e+02 2.0900e+02 1.7700e+02 1.4800e+02 1.2900e+02 1.1200e+02\n",
      " 1.0000e+02 8.9000e+01 7.1000e+01 6.0000e+01 5.4000e+01 4.7000e+01\n",
      " 4.4000e+01 4.1000e+01 3.8000e+01 3.5000e+01 3.1000e+01 2.7000e+01\n",
      " 2.5000e+01 2.5000e+01 2.4000e+01 2.4000e+01 2.4000e+01 2.1000e+01\n",
      " 2.0000e+01 1.8000e+01 1.7000e+01 1.6000e+01 1.6000e+01 1.5000e+01\n",
      " 1.5000e+01 1.5000e+01 1.4000e+01 1.4000e+01 1.4000e+01 1.4000e+01\n",
      " 1.3000e+01 1.2000e+01 1.2000e+01 1.1000e+01 1.0000e+01 1.0000e+01\n",
      " 1.0000e+01 1.0000e+01 1.0000e+01 1.0000e+01 9.0000e+00 9.0000e+00\n",
      " 8.0000e+00 8.0000e+00 8.0000e+00 8.0000e+00 8.0000e+00 8.0000e+00\n",
      " 8.0000e+00 8.0000e+00 8.0000e+00 7.0000e+00 7.0000e+00 7.0000e+00\n",
      " 7.0000e+00 6.0000e+00 6.0000e+00 6.0000e+00 6.0000e+00 6.0000e+00\n",
      " 6.0000e+00 5.0000e+00 5.0000e+00 5.0000e+00]\n",
      "[1.00000000e+00 9.43215112e-01 8.74904900e-01 7.95393107e-01\n",
      " 7.13825534e-01 6.31820904e-01 5.54478204e-01 4.82962915e-01\n",
      " 4.19185134e-01 3.63711414e-01 3.14777344e-01 2.70505204e-01\n",
      " 2.30781683e-01 1.95007851e-01 1.64721498e-01 1.38028716e-01\n",
      " 1.15803616e-01 9.48249348e-02 7.77473817e-02 6.32436020e-02\n",
      " 5.00509899e-02 3.97558962e-02 3.11604643e-02 2.33743950e-02\n",
      " 1.78869158e-02 1.38239150e-02 1.04407789e-02 8.12600159e-03\n",
      " 6.02165855e-03 5.08279781e-03 4.17631157e-03 3.38313612e-03\n",
      " 2.86514399e-03 2.39571362e-03 2.08815579e-03 1.81297247e-03\n",
      " 1.61872542e-03 1.44066562e-03 1.14929505e-03 9.71235249e-04\n",
      " 8.74111724e-04 7.60800945e-04 7.12239183e-04 6.63677420e-04\n",
      " 6.15115658e-04 5.66553895e-04 5.01804879e-04 4.37055862e-04\n",
      " 4.04681354e-04 4.04681354e-04 3.88494100e-04 3.88494100e-04\n",
      " 3.88494100e-04 3.39932337e-04 3.23745083e-04 2.91370575e-04\n",
      " 2.75183321e-04 2.58996066e-04 2.58996066e-04 2.42808812e-04\n",
      " 2.42808812e-04 2.42808812e-04 2.26621558e-04 2.26621558e-04\n",
      " 2.26621558e-04 2.26621558e-04 2.10434304e-04 1.94247050e-04\n",
      " 1.94247050e-04 1.78059796e-04 1.61872542e-04 1.61872542e-04\n",
      " 1.61872542e-04 1.61872542e-04 1.61872542e-04 1.61872542e-04\n",
      " 1.45685287e-04 1.45685287e-04 1.29498033e-04 1.29498033e-04\n",
      " 1.29498033e-04 1.29498033e-04 1.29498033e-04 1.29498033e-04\n",
      " 1.29498033e-04 1.29498033e-04 1.29498033e-04 1.13310779e-04\n",
      " 1.13310779e-04 1.13310779e-04 1.13310779e-04 9.71235249e-05\n",
      " 9.71235249e-05 9.71235249e-05 9.71235249e-05 9.71235249e-05\n",
      " 9.71235249e-05 8.09362708e-05 8.09362708e-05 8.09362708e-05]\n"
     ]
    }
   ],
   "source": [
    "# Create data for initial ROC curves\n",
    "signal_roc_counts = np.zeros(100)\n",
    "background_roc_counts = np.zeros(100)\n",
    "\n",
    "signal_roc_counts[0] += 1\n",
    "\n",
    "for i, layers in enumerate(all_layer_ets):\n",
    "    total_et = sum(layers)\n",
    "    if i == 0:\n",
    "        print(total_et)\n",
    "    \n",
    "    for j in range(100):\n",
    "        if total_et > j:\n",
    "            if all_truth[i] == 1:\n",
    "                signal_roc_counts[j] += 1\n",
    "            elif all_truth[i] == 0:\n",
    "                background_roc_counts[j] += 1\n",
    "            \n",
    "# Convert event counts to efficiencies\n",
    "signal_roc_eff = np.array([float(sig_count / signal_roc_counts[0]) for sig_count in signal_roc_counts])\n",
    "background_roc_eff = np.array([float(back_count / background_roc_counts[0]) for back_count in background_roc_counts])\n",
    "\n",
    "#signal_roc_eff = list(signal_roc_eff)\n",
    "#background_roc_eff = list(background_roc_eff)\n",
    "\n",
    "#print(signal_roc_counts)\n",
    "#print(signal_roc_eff)\n",
    "#print(background_roc_counts)\n",
    "#print(background_roc_eff)"
   ]
  },
  {
   "cell_type": "code",
   "execution_count": 56,
   "metadata": {},
   "outputs": [
    {
     "data": {
      "image/png": "[encoded data removed]",
      "text/plain": [
       "<IPython.core.display.Image object>"
      ]
     },
     "metadata": {},
     "output_type": "display_data"
    }
   ],
   "source": [
    "# Plot initial ROC curve, should make the Y axis linear\n",
    "roc_curve = ROOT.TGraph(100, signal_roc_eff, background_roc_eff)\n",
    "c.Clear()\n",
    "roc_curve.Draw()\n",
    "\n",
    "c.Draw()"
   ]
  },
  {
   "cell_type": "code",
   "execution_count": null,
   "metadata": {},
   "outputs": [],
   "source": [
    "neural_network = torch.nn.Sequential(    # the neural network topology:\n",
    "    torch.nn.Linear(5, 1),               # input → hidden: 2 dimensions → 5 dimensions\n",
    "    torch.nn.Sigmoid(),                  # non-linearity applied to each of the 5 components\n",
    "#    torch.nn.Linear(, 1))               # hidden → output: 5 dimensions → 1 dimension\n",
    "\n",
    "loss_fn = torch.nn.MSELoss(reduction=\"sum\")\n",
    "optimizer = torch.optim.Adam(neural_network.parameters(), lr=0.001)"
   ]
  }
 ],
 "metadata": {
  "kernelspec": {
   "display_name": "Python 3",
   "language": "python",
   "name": "python3"
  },
  "language_info": {
   "codemirror_mode": {
    "name": "ipython",
    "version": 3
   },
   "file_extension": ".py",
   "mimetype": "text/x-python",
   "name": "python",
   "nbconvert_exporter": "python",
   "pygments_lexer": "ipython3",
   "version": "3.7.3"
  }
 },
 "nbformat": 4,
 "nbformat_minor": 2
}

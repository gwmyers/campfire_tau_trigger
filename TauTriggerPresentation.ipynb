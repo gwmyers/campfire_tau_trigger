{
 "cells": [
  {
   "cell_type": "code",
   "execution_count": 2,
   "metadata": {},
   "outputs": [],
   "source": [
    "# A check to see if environment variables are setup correctly:\n",
    "import sys, math, random, ROOT, uproot, torch\n",
    "import numpy as np"
   ]
  },
  {
   "cell_type": "code",
   "execution_count": 3,
   "metadata": {},
   "outputs": [
    {
     "name": "stdout",
     "output_type": "stream",
     "text": [
      "7812\n",
      "69049\n"
     ]
    }
   ],
   "source": [
    "# now do stuff:\n",
    "signal_file = ROOT.TFile(\"formatted/tau_signal.root\")\n",
    "signal_tree = signal_file.Get(\"signal\")\n",
    "\n",
    "background_file = ROOT.TFile(\"formatted/background.root\")\n",
    "background_tree = background_file.Get(\"background\")\n",
    "\n",
    "signal_entries = signal_tree.GetEntries()\n",
    "background_entries = background_tree.GetEntries()\n",
    "print(signal_entries)\n",
    "print(background_entries)\n",
    "#signal_tree.Print()"
   ]
  },
  {
   "cell_type": "code",
   "execution_count": 4,
   "metadata": {},
   "outputs": [],
   "source": [
    "signal_layer_ets = []\n",
    "background_layer_ets = []\n",
    "all_layer_ets = []\n",
    "all_truth = []\n",
    "\n",
    "for i in range(signal_entries):\n",
    "    signal_tree.GetEntry(i)\n",
    "    layer_ets = [signal_tree.L0EM, signal_tree.L1EM, signal_tree.L2EM, signal_tree.L3EM, signal_tree.LHAD]\n",
    "    layer_ets = [et / 1000. for et in layer_ets]\n",
    "    \n",
    "    signal_layer_ets.append(layer_ets)\n",
    "    all_layer_ets.append(layer_ets)\n",
    "    \n",
    "    all_truth.append(1)\n",
    "    \n",
    "    \n",
    "for i in range(background_entries):\n",
    "    background_tree.GetEntry(i)\n",
    "    layer_ets = [background_tree.L0EM, background_tree.L1EM, background_tree.L2EM, background_tree.L3EM, background_tree.LHAD]\n",
    "    layer_ets = [et / 1000. for et in layer_ets]\n",
    "    \n",
    "    background_layer_ets.append(layer_ets)\n",
    "    all_layer_ets.append(layer_ets)\n",
    "    \n",
    "    all_truth.append(0)"
   ]
  },
  {
   "cell_type": "code",
   "execution_count": 5,
   "metadata": {},
   "outputs": [],
   "source": [
    "# Create a histogram of reconstructed Et of all signal and background events\n",
    "h_signal = ROOT.TH1F(\"signal_recoEt\", \"signal_recoEt\", 100, -20, 100)\n",
    "h_signal.GetXaxis().SetTitle(\"Reconstructed Et\")\n",
    "h_signal.GetYaxis().SetTitle(\"Events\")\n",
    "\n",
    "h_background = ROOT.TH1F(\"background_recoEt\", \"background_recoEt\", 100, -20, 100)\n",
    "h_background.GetXaxis().SetTitle(\"Reconstructed Et\")\n",
    "h_background.GetYaxis().SetTitle(\"Events\")\n",
    "\n",
    "c = ROOT.TCanvas(\"c\", \"canvas\", 400, 400)"
   ]
  },
  {
   "cell_type": "code",
   "execution_count": 6,
   "metadata": {},
   "outputs": [
    {
     "name": "stdout",
     "output_type": "stream",
     "text": [
      "7812.0\n",
      "69049.0\n"
     ]
    }
   ],
   "source": [
    "h_signal.Reset()\n",
    "for event in signal_layer_ets:\n",
    "    h_signal.Fill(sum(event))\n",
    "print(h_signal.GetEntries())\n",
    "    \n",
    "h_background.Reset()\n",
    "for event in background_layer_ets:\n",
    "    h_background.Fill(sum(event))\n",
    "print(h_background.GetEntries())"
   ]
  },
  {
   "cell_type": "code",
   "execution_count": 6,
   "metadata": {},
   "outputs": [
    {
     "data": {
      "image/png": "[encoded data removed]",
      "text/plain": [
       "<IPython.core.display.Image object>"
      ]
     },
     "metadata": {},
     "output_type": "display_data"
    }
   ],
   "source": [
    "h_background.Draw()\n",
    "h_signal.Draw('same')\n",
    "h_signal.SetLineColor(2)\n",
    "c.SetLogy()\n",
    "c.Draw()"
   ]
  },
  {
   "cell_type": "code",
   "execution_count": 7,
   "metadata": {},
   "outputs": [],
   "source": [
    "# Create data for initial ROC curves\n",
    "signal_roc_counts = np.zeros(100)\n",
    "background_roc_counts = np.zeros(100)\n",
    "\n",
    "signal_roc_counts[0] += 1\n",
    "\n",
    "for i, layers in enumerate(all_layer_ets):\n",
    "    total_et = sum(layers)\n",
    "    \n",
    "    for j in range(100):\n",
    "        if total_et > j:\n",
    "            if all_truth[i] == 1:\n",
    "                signal_roc_counts[j] += 1\n",
    "            elif all_truth[i] == 0:\n",
    "                background_roc_counts[j] += 1\n",
    "            \n",
    "# Convert event counts to efficiencies\n",
    "signal_roc_eff = np.array([float(sig_count / signal_roc_counts[0]) for sig_count in signal_roc_counts])\n",
    "background_roc_eff = np.array([float(back_count / background_roc_counts[0]) for back_count in background_roc_counts])\n",
    "\n",
    "#signal_roc_eff = list(signal_roc_eff)\n",
    "#background_roc_eff = list(background_roc_eff)\n",
    "\n",
    "#print(signal_roc_counts)\n",
    "#print(signal_roc_eff)\n",
    "#print(background_roc_counts)\n",
    "#print(background_roc_eff)"
   ]
  },
  {
   "cell_type": "code",
   "execution_count": 8,
   "metadata": {},
   "outputs": [
    {
     "name": "stdout",
     "output_type": "stream",
     "text": [
      "21675.13671875\n"
     ]
    },
    {
     "name": "stderr",
     "output_type": "stream",
     "text": [
      "Info in <TCanvas::Print>: pdf file nn_weights.pdf has been created\n"
     ]
    },
    {
     "data": {
      "image/png": "[encoded data removed]",
      "text/plain": [
       "<IPython.core.display.Image object>"
      ]
     },
     "metadata": {},
     "output_type": "display_data"
    }
   ],
   "source": [
    "# cast all_data list to numpy array:\n",
    "npArray_all_layer_ets = np.array(all_layer_ets)\n",
    "\n",
    "# NN input vectors:\n",
    "Xin = torch.from_numpy(np.dstack([\n",
    "    npArray_all_layer_ets[:,0], \n",
    "    npArray_all_layer_ets[:,1], \n",
    "    npArray_all_layer_ets[:,2], \n",
    "    npArray_all_layer_ets[:,3],\n",
    "    npArray_all_layer_ets[:,4]])[0].astype(np.float32)) \n",
    "\n",
    "# NN test value: 0=background, 1=signal\n",
    "Yout = torch.from_numpy(np.array(all_truth).astype(np.float32).reshape(-1, 1))\n",
    "\n",
    "# NN parameters:\n",
    "neural_network = torch.nn.Sequential(    # the neural network topology:\n",
    "    torch.nn.Linear(5, 8),               # input → hidden: 5 dimensions → 8 dimensions\n",
    "    torch.nn.Sigmoid(),\n",
    "    torch.nn.Linear(8, 8),               # non-linearity applied to each of the 5 components\n",
    "    torch.nn.Sigmoid(),\n",
    "    torch.nn.Linear(8, 1))               # hidden → output: 5 dimensions → 1 dimension\n",
    "\n",
    "loss_fn = torch.nn.MSELoss(reduction=\"sum\")\n",
    "optimizer = torch.optim.Adam(neural_network.parameters(), lr=0.075)\n",
    "\n",
    "# train the network:\n",
    "for i in range(1000):                    # iterate 100 times to minimize loss: y_pred - y\n",
    "    y_pred = neural_network(Xin)           # neural_network is a function: X ↦ y\n",
    "    loss = loss_fn(y_pred, Yout)\n",
    "    optimizer.zero_grad()\n",
    "    loss.backward()\n",
    "    optimizer.step()\n",
    "    if i % 1000 == 1:\n",
    "        print(loss.item())\n",
    "        \n",
    "#torch.save(neural_network.state_dict(), \"nn_state\")\n",
    "    \n",
    "# check the NN output for event 0:    \n",
    "h_nnOutputWeights_sig = ROOT.TH1F(\"nn_sig\", \"nn_sig\", 100, -0.5, 1.5)\n",
    "h_nnOutputWeights_sig.SetLineColor(ROOT.kRed)\n",
    "h_nnOutputWeights_bkg = ROOT.TH1F(\"nn_bkg\", \"nn_bkg\", 100, -0.5, 1.5)\n",
    "h_nnOutputWeights_sig.GetXaxis().SetTitle(\"NN output weight\")\n",
    "h_nnOutputWeights_sig.GetYaxis().SetTitle(\"Events\")\n",
    "h_nnOutputWeights_bkg.GetXaxis().SetTitle(\"NN output weight\")\n",
    "h_nnOutputWeights_bkg.GetYaxis().SetTitle(\"Events\")\n",
    "h_nnOutputWeights_bkg.SetTitle(\"\")\n",
    "h_nnOutputWeights_sig.SetTitle(\"\")\n",
    "\n",
    "for i in range(len(Xin)):\n",
    "    if Yout[i] == 1.0:\n",
    "        h_nnOutputWeights_sig.Fill(neural_network(Xin[i]))\n",
    "    else:\n",
    "        h_nnOutputWeights_bkg.Fill(neural_network(Xin[i]))\n",
    "    \n",
    "c_nn = ROOT.TCanvas(\"c_nn\", \"c_nn\", 400, 400)\n",
    "ROOT.gStyle.SetOptStat(0)\n",
    "h_nnOutputWeights_bkg.Draw()\n",
    "h_nnOutputWeights_sig.Draw(\"same\")\n",
    "c_nn.SetLogy()\n",
    "c_nn.Draw()\n",
    "\n",
    "c_nn.SaveAs(\"nn_weights.pdf\")"
   ]
  },
  {
   "cell_type": "code",
   "execution_count": 9,
   "metadata": {},
   "outputs": [
    {
     "name": "stdout",
     "output_type": "stream",
     "text": [
      "tensor([0.9769], grad_fn=<SelectBackward>)\n"
     ]
    }
   ],
   "source": [
    "# Create data for network-trained ROC curves\n",
    "\n",
    "# Run all training samples through the trained network\n",
    "network_outputs = neural_network(Xin)\n",
    "\n",
    "# Create arrays to hold the number of events left after each Et cut\n",
    "signal_network_roc_counts = np.zeros(100)\n",
    "background_network_roc_counts = np.zeros(100)\n",
    "\n",
    "for i, value in enumerate(network_outputs):\n",
    "    #total_et = sum(layers)\n",
    "    if i == 0:\n",
    "        print(value)\n",
    "    \n",
    "    for j in range(100):\n",
    "        if value > (-0.2 + j*0.01):\n",
    "            if all_truth[i] == 1:\n",
    "                signal_network_roc_counts[j] += 1\n",
    "            elif all_truth[i] == 0:\n",
    "                background_network_roc_counts[j] += 1\n",
    "            \n",
    "# Convert event counts to efficiencies\n",
    "signal_network_roc_eff = np.array([float(sig_count / signal_network_roc_counts[0]) for sig_count in signal_network_roc_counts])\n",
    "background_network_roc_eff = np.array([float(back_count / background_network_roc_counts[0]) for back_count in background_network_roc_counts])"
   ]
  },
  {
   "cell_type": "code",
   "execution_count": 16,
   "metadata": {},
   "outputs": [
    {
     "name": "stdout",
     "output_type": "stream",
     "text": [
      "[1.       0.99936  0.996799 0.996159 0.995519 0.995519 0.993598 0.992958\n",
      " 0.992958 0.992318 0.991677 0.991037 0.991037 0.988476 0.987196 0.986556\n",
      " 0.984635 0.983995 0.982074 0.982074 0.982074 0.980794 0.980794 0.980154\n",
      " 0.979513 0.978873 0.977593 0.976312 0.973752 0.973111 0.972471 0.971831\n",
      " 0.970551 0.970551 0.96927  0.96735  0.966709 0.966069 0.963508 0.960948\n",
      " 0.960307 0.959027 0.959027 0.958387 0.957746 0.956466 0.955826 0.955186\n",
      " 0.953905 0.952625 0.951985 0.951344 0.948784 0.946223 0.944942 0.942382\n",
      " 0.941101 0.939821 0.93854  0.9379   0.93662  0.935339 0.935339 0.932778\n",
      " 0.930858 0.928937 0.925096 0.923816 0.920615 0.918694 0.915493 0.910371\n",
      " 0.908451 0.90717  0.90525  0.903329 0.898207 0.895647 0.889885 0.886684\n",
      " 0.881562 0.879001 0.87644  0.870038 0.865557 0.861716 0.854673 0.850192\n",
      " 0.84443  0.839309 0.833547 0.823303 0.8137   0.802177 0.784891 0.766325\n",
      " 0.739437 0.705506 0.654289 0.552497]\n",
      "[1.00000e+00 2.73952e-01 2.36875e-01 2.12470e-01 1.92990e-01 1.75827e-01\n",
      " 1.63589e-01 1.54392e-01 1.44616e-01 1.35419e-01 1.28395e-01 1.22022e-01\n",
      " 1.15939e-01 1.11159e-01 1.06163e-01 1.00804e-01 9.65312e-02 9.23311e-02\n",
      " 8.84930e-02 8.54515e-02 8.11065e-02 7.81374e-02 7.53132e-02 7.28510e-02\n",
      " 7.02440e-02 6.78543e-02 6.59715e-02 6.40886e-02 6.16265e-02 5.98885e-02\n",
      " 5.82229e-02 5.63401e-02 5.51090e-02 5.40227e-02 5.27192e-02 5.11261e-02\n",
      " 4.96053e-02 4.85915e-02 4.69983e-02 4.58397e-02 4.42465e-02 4.33051e-02\n",
      " 4.20740e-02 4.11326e-02 3.98291e-02 3.88153e-02 3.73669e-02 3.64979e-02\n",
      " 3.57738e-02 3.49048e-02 3.38909e-02 3.30944e-02 3.22254e-02 3.12115e-02\n",
      " 3.03425e-02 2.92563e-02 2.85321e-02 2.78804e-02 2.65045e-02 2.59251e-02\n",
      " 2.51285e-02 2.45492e-02 2.36802e-02 2.33905e-02 2.28836e-02 2.23043e-02\n",
      " 2.14353e-02 2.09284e-02 2.04215e-02 1.96973e-02 1.92628e-02 1.87559e-02\n",
      " 1.79593e-02 1.73800e-02 1.65834e-02 1.62937e-02 1.55696e-02 1.50626e-02\n",
      " 1.40488e-02 1.32522e-02 1.28901e-02 1.21660e-02 1.16591e-02 1.08625e-02\n",
      " 1.02107e-02 9.63140e-03 9.26932e-03 8.76240e-03 8.68998e-03 8.11065e-03\n",
      " 7.74857e-03 7.45890e-03 6.95199e-03 5.93816e-03 5.21399e-03 4.41741e-03\n",
      " 3.40358e-03 2.75183e-03 1.66558e-03 7.96582e-04]\n"
     ]
    }
   ],
   "source": [
    "# Read in BDT efficiency arrays from flat files\n",
    "#signal_bdt_efficiencies = []\n",
    "with open('bdt/bdt_sigeff.txt', 'r') as sig_file:\n",
    "    signal_bdt_roc_eff = sig_file.readlines()\n",
    "    \n",
    "with open('bdt/bdt_bkgeff.txt', 'r') as back_file:\n",
    "    background_bdt_roc_eff = back_file.readlines()\n",
    "\n",
    "signal_bdt_roc_eff = np.array([float(value) for value in signal_bdt_roc_eff])\n",
    "background_bdt_roc_eff = np.array([float(value) for value in background_bdt_roc_eff])\n",
    "\n",
    "\n",
    "# Cheat and add 1.0/1.0 efficiency value to BDTs to make the ROC curves look good\n",
    "signal_bdt_roc_eff = np.insert(signal_bdt_roc_eff, 0, 1)\n",
    "background_bdt_roc_eff = np.insert(background_bdt_roc_eff, 0, 1)\n",
    "\n",
    "#print(signal_bdt_roc_eff)\n",
    "#print(background_bdt_roc_eff)"
   ]
  },
  {
   "cell_type": "code",
   "execution_count": 21,
   "metadata": {},
   "outputs": [
    {
     "data": {
      "image/png": "[encoded data removed]",
      "text/plain": [
       "<IPython.core.display.Image object>"
      ]
     },
     "metadata": {},
     "output_type": "display_data"
    }
   ],
   "source": [
    "# Plot ROC curves, should make the Y axis linear\n",
    "initial_roc_curve = ROOT.TGraph(100, background_roc_eff, signal_roc_eff)\n",
    "network_roc_curve = ROOT.TGraph(100, background_network_roc_eff, signal_network_roc_eff)\n",
    "bdt_roc_curve = ROOT.TGraph(101, background_bdt_roc_eff, signal_bdt_roc_eff)\n",
    "c.Clear()\n",
    "initial_roc_curve.Draw()\n",
    "initial_roc_curve.SetTitle('ROC Curves')\n",
    "initial_roc_curve.SetLineColor(8)\n",
    "initial_roc_curve.GetXaxis().SetTitle('Background Efficiency')\n",
    "initial_roc_curve.GetYaxis().SetTitle('Signal Efficiency')\n",
    "\n",
    "network_roc_curve.Draw('l')\n",
    "network_roc_curve.SetLineColor(1)\n",
    "\n",
    "bdt_roc_curve.Draw('l')\n",
    "bdt_roc_curve.SetLineColor(9)\n",
    "\n",
    "legend = ROOT.TLegend(.55, .1, .9, .25)\n",
    "legend.AddEntry(initial_roc_curve, 'Initial ROC Curve')\n",
    "legend.AddEntry(network_roc_curve, 'NN Trained ROC Curve')\n",
    "legend.AddEntry(bdt_roc_curve, 'BDT Trained ROC Curve')\n",
    "\n",
    "legend.Draw()\n",
    "\n",
    "c.Draw()"
   ]
  },
  {
   "cell_type": "code",
   "execution_count": null,
   "metadata": {},
   "outputs": [],
   "source": []
  }
 ],
 "metadata": {
  "kernelspec": {
   "display_name": "Python 3",
   "language": "python",
   "name": "python3"
  },
  "language_info": {
   "codemirror_mode": {
    "name": "ipython",
    "version": 3
   },
   "file_extension": ".py",
   "mimetype": "text/x-python",
   "name": "python",
   "nbconvert_exporter": "python",
   "pygments_lexer": "ipython3",
   "version": "3.7.3"
  }
 },
 "nbformat": 4,
 "nbformat_minor": 2
}

{
 "cells": [
  {
   "cell_type": "code",
   "execution_count": 15,
   "metadata": {},
   "outputs": [
    {
     "name": "stderr",
     "output_type": "stream",
     "text": [
      "Warning in <TFile::Append>: Replacing existing TH1: h1 (Potential memory leak).\n",
      "Warning in <TCanvas::Constructor>: Deleting canvas with same name: c\n"
     ]
    },
    {
     "data": {
      "image/png": "[encoded data removed]",
      "text/plain": [
       "<IPython.core.display.Image object>"
      ]
     },
     "metadata": {},
     "output_type": "display_data"
    }
   ],
   "source": [
    "# A check to see if environment variables are setup correctly:\n",
    "import sys, math, random, ROOT, uproot, torch\n",
    "import numpy as np\n",
    "\n",
    "h1 = ROOT.TH1F(\"h1\", \"h1\", 10, 0, 500)\n",
    "h1.GetXaxis().SetTitle(\"random thing\")\n",
    "h1.GetYaxis().SetTitle(\"events\")\n",
    "\n",
    "for x in range(100000):\n",
    "    h1.Fill(random.randrange(0, 500))\n",
    "\n",
    "c = ROOT.TCanvas(\"c\", \"canvas\", 400, 400)\n",
    "h1.Draw()\n",
    "c.Draw()"
   ]
  },
  {
   "cell_type": "code",
   "execution_count": 13,
   "metadata": {},
   "outputs": [],
   "source": [
    "# now do stuff:\n",
    "zttFile = ROOT.TFile(\"ztt_output.root\")"
   ]
  }
 ],
 "metadata": {
  "kernelspec": {
   "display_name": "Python 3",
   "language": "python",
   "name": "python3"
  },
  "language_info": {
   "codemirror_mode": {
    "name": "ipython",
    "version": 3
   },
   "file_extension": ".py",
   "mimetype": "text/x-python",
   "name": "python",
   "nbconvert_exporter": "python",
   "pygments_lexer": "ipython3",
   "version": "3.7.3"
  }
 },
 "nbformat": 4,
 "nbformat_minor": 2
}

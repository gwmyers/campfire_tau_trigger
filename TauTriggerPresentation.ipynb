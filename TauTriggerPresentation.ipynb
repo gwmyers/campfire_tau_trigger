{
 "cells": [
  {
   "cell_type": "code",
   "execution_count": 22,
   "metadata": {},
   "outputs": [],
   "source": [
    "# A check to see if environment variables are setup correctly:\n",
    "import sys, math, random, ROOT, uproot, torch\n",
    "import numpy as np\n",
    "\n",
    "# h1 = ROOT.TH1F(\"h1\", \"h1\", 10, 0, 500)\n",
    "# h1.GetXaxis().SetTitle(\"random thing\")\n",
    "# h1.GetYaxis().SetTitle(\"events\")\n",
    "\n",
    "# for x in range(100000):\n",
    "#     h1.Fill(random.randrange(0, 500))\n",
    "\n",
    "# c = ROOT.TCanvas(\"c\", \"canvas\", 400, 400)\n",
    "# h1.Draw()\n",
    "# c.Draw()"
   ]
  },
  {
   "cell_type": "code",
   "execution_count": 23,
   "metadata": {},
   "outputs": [
    {
     "name": "stdout",
     "output_type": "stream",
     "text": [
      "17232\n"
     ]
    }
   ],
   "source": [
    "# now do stuff:\n",
    "zttFile = ROOT.TFile(\"ztt_Output.root\")\n",
    "signal_tree = zttFile.Get(\"tauROI\")\n",
    "\n",
    "signal_entries = signal_tree.GetEntries()\n",
    "print(signal_entries)\n",
    "\n",
    "#signal_tree.Print()"
   ]
  },
  {
   "cell_type": "code",
   "execution_count": 24,
   "metadata": {},
   "outputs": [
    {
     "name": "stdout",
     "output_type": "stream",
     "text": [
      "69049\n",
      "******************************************************************************\n",
      "*Tree    :mytree    : mytree                                                 *\n",
      "*Entries :    69049 : Total =        37412556 bytes  File  Size =   26066792 *\n",
      "*        :          : Tree compression factor =   1.43                       *\n",
      "******************************************************************************\n",
      "*Br    0 :bcid      : bcid/i                                                 *\n",
      "*Entries :    69049 : Total  Size=     277334 bytes  File Size  =      26862 *\n",
      "*Baskets :        9 : Basket Size=      32000 bytes  Compression=  10.31     *\n",
      "*............................................................................*\n",
      "*Br    1 :seed      : TLorentzVector                                         *\n",
      "*Entries :    69049 : Total  Size=    4711393 bytes  File Size  =    2120327 *\n",
      "*Baskets :      156 : Basket Size=      32000 bytes  Compression=   2.22     *\n",
      "*............................................................................*\n",
      "*Br    2 :TauCluster_EM : TauCluster_EM/F                                    *\n",
      "*Entries :    69049 : Total  Size=     277451 bytes  File Size  =     252664 *\n",
      "*Baskets :        9 : Basket Size=      32000 bytes  Compression=   1.10     *\n",
      "*............................................................................*\n",
      "*Br    3 :TauCluster_Had : TauCluster_Had/F                                  *\n",
      "*Entries :    69049 : Total  Size=     277464 bytes  File Size  =      25940 *\n",
      "*Baskets :        9 : Basket Size=      32000 bytes  Compression=  10.68     *\n",
      "*............................................................................*\n",
      "*Br    4 :fcore     : fcore/F                                                *\n",
      "*Entries :    69049 : Total  Size=     277347 bytes  File Size  =     236781 *\n",
      "*Baskets :        9 : Basket Size=      32000 bytes  Compression=   1.17     *\n",
      "*............................................................................*\n",
      "*Br    5 :L0CellEt[3][3] : L0CellEt[3][3]/F                                  *\n",
      "*Entries :    69049 : Total  Size=    2494133 bytes  File Size  =    2281176 *\n",
      "*Baskets :       78 : Basket Size=      32000 bytes  Compression=   1.09     *\n",
      "*............................................................................*\n",
      "*Br    6 :L1CellEt[13][3] : L1CellEt[13][3]/F                                *\n",
      "*Entries :    69049 : Total  Size=   10807238 bytes  File Size  =    9291951 *\n",
      "*Baskets :      339 : Basket Size=      32000 bytes  Compression=   1.16     *\n",
      "*............................................................................*\n",
      "*Br    7 :L2CellEt[13][3] : L2CellEt[13][3]/F                                *\n",
      "*Entries :    69049 : Total  Size=   10807238 bytes  File Size  =    9448459 *\n",
      "*Baskets :      339 : Basket Size=      32000 bytes  Compression=   1.14     *\n",
      "*............................................................................*\n",
      "*Br    8 :L3CellEt[3][3] : L3CellEt[3][3]/F                                  *\n",
      "*Entries :    69049 : Total  Size=    2494133 bytes  File Size  =    2074606 *\n",
      "*Baskets :       78 : Basket Size=      32000 bytes  Compression=   1.20     *\n",
      "*............................................................................*\n",
      "*Br    9 :EMCellEt[3][3] : EMCellEt[3][3]/F                                  *\n",
      "*Entries :    69049 : Total  Size=    2494133 bytes  File Size  =     240448 *\n",
      "*Baskets :       78 : Basket Size=      32000 bytes  Compression=  10.36     *\n",
      "*............................................................................*\n",
      "*Br   10 :HadCellEt[3][3] : HadCellEt[3][3]/F                                *\n",
      "*Entries :    69049 : Total  Size=    2494215 bytes  File Size  =      56548 *\n",
      "*Baskets :       78 : Basket Size=      32000 bytes  Compression=  44.07     *\n",
      "*............................................................................*\n"
     ]
    }
   ],
   "source": [
    "MB80File = ROOT.TFile(\"orig_output_MB80.root\")\n",
    "background_tree = MB80File.Get(\"mytree\")\n",
    "\n",
    "background_entries = background_tree.GetEntries()\n",
    "print(background_entries)\n",
    "\n",
    "background_tree.Print()"
   ]
  },
  {
   "cell_type": "code",
   "execution_count": 26,
   "metadata": {},
   "outputs": [
    {
     "name": "stdout",
     "output_type": "stream",
     "text": [
      "(36,)\n",
      "(156,)\n",
      "(156,)\n",
      "(36,)\n",
      "(36,)\n",
      "-1.3830479114006923e+35\n",
      "nan\n"
     ]
    },
    {
     "name": "stderr",
     "output_type": "stream",
     "text": [
      "Warning in <TFile::Append>: Replacing existing TH1: signal_recoEt (Potential memory leak).\n",
      "Warning in <TFile::Append>: Replacing existing TH1: background_recoEt (Potential memory leak).\n",
      "Warning in <TCanvas::Constructor>: Deleting canvas with same name: c\n"
     ]
    }
   ],
   "source": [
    "# Create a histogram of reconstructed Et of all signal and background events\n",
    "h_signal = ROOT.TH1F(\"signal_recoEt\", \"signal_recoEt\", 100, -20, 100)\n",
    "h_signal.GetXaxis().SetTitle(\"Reconstructed Et\")\n",
    "h_signal.GetYaxis().SetTitle(\"Events\")\n",
    "\n",
    "h_background = ROOT.TH1F(\"background_recoEt\", \"background_recoEt\", 100, -20, 100)\n",
    "h_background.GetXaxis().SetTitle(\"Reconstructed Et\")\n",
    "h_background.GetYaxis().SetTitle(\"Events\")\n",
    "\n",
    "c = ROOT.TCanvas(\"c\", \"canvas\", 400, 400)\n",
    "#c1 = ROOT.TCanvas(\"c1\", \"canvas\", 400, 400)\n",
    "#c2 = ROOT.TCanvas(\"c2\", \"canvas\", 400, 400)\n",
    "\n",
    "# Construct reconstructed Et of each signal event and read into histogram\n",
    "for i in range(signal_entries):\n",
    "    signal_tree.GetEntry(i)\n",
    "    \n",
    "    # Each scells object is a tuple holding the energy of each cell in that layer\n",
    "    # Read each tuple into a numpy array\n",
    "    l0_cells = np.array(signal_tree.scellsEM0)\n",
    "    l1_cells = np.array(signal_tree.scellsEM1)\n",
    "    l2_cells = np.array(signal_tree.scellsEM2)\n",
    "    l3_cells = np.array(signal_tree.scellsEM3)\n",
    "    had_cells = np.array(signal_tree.scellsHAD)\n",
    "\n",
    "    # Sum the energy of cells in each layer, then add all layers together\n",
    "    # This gives the total reconstructed energy of the event\n",
    "    reco_energy = (sum(l0_cells) + sum(l1_cells) + sum(l2_cells) + sum(l3_cells) + sum(had_cells)) / 1000.\n",
    "    \n",
    "    h_signal.Fill(reco_energy)\n",
    "    \n",
    "# Construct reconstructed Et of each signal event and read into histogram\n",
    "for i in range(background_entries):\n",
    "    background_tree.GetEntry(i)\n",
    "    \n",
    "    # Each scells object is a tuple holding the energy of each cell in that layer\n",
    "    # Read each tuple into a numpy array\n",
    "    for value in background_tree.L0CellEt:\n",
    "        print(value)\n",
    "    l0_cells = np.array(background_tree.L0CellEt)\n",
    "    l1_cells = np.array(background_tree.L1CellEt)\n",
    "    l2_cells = np.array(background_tree.L2CellEt)\n",
    "    l3_cells = np.array(background_tree.L3CellEt)\n",
    "    had_cells = np.array(background_tree.HadCellEt)\n",
    "\n",
    "    # Sum the energy of cells in each layer, then add all layers together\n",
    "    # This gives the total reconstructed energy of the event\n",
    "    reco_energy = (sum(l0_cells) + sum(l1_cells) + sum(l2_cells) + sum(l3_cells) + sum(had_cells)) / 1000.\n",
    "    \n",
    "    if i == 0:\n",
    "        print(l0_cells.shape)\n",
    "        print(l1_cells.shape)\n",
    "        print(l2_cells.shape)\n",
    "        print(l3_cells.shape)\n",
    "        print(had_cells.shape)\n",
    "        print(sum(l0_cells))\n",
    "        print(reco_energy)\n",
    "    \n",
    "    h_background.Fill(reco_energy)\n",
    "    "
   ]
  },
  {
   "cell_type": "code",
   "execution_count": 7,
   "metadata": {},
   "outputs": [
    {
     "data": {
      "image/png": "[encoded data removed]",
      "text/plain": [
       "<IPython.core.display.Image object>"
      ]
     },
     "metadata": {},
     "output_type": "display_data"
    }
   ],
   "source": [
    "#h_signal.Draw()\n",
    "#c1.Draw()\n",
    "h_background.Draw()\n",
    "#h_background.SetLineColor(0)\n",
    "c.Draw()\n",
    "#c2.Draw()"
   ]
  },
  {
   "cell_type": "code",
   "execution_count": null,
   "metadata": {},
   "outputs": [],
   "source": []
  },
  {
   "cell_type": "code",
   "execution_count": null,
   "metadata": {},
   "outputs": [],
   "source": []
  }
 ],
 "metadata": {
  "kernelspec": {
   "display_name": "Python 3",
   "language": "python",
   "name": "python3"
  },
  "language_info": {
   "codemirror_mode": {
    "name": "ipython",
    "version": 3
   },
   "file_extension": ".py",
   "mimetype": "text/x-python",
   "name": "python",
   "nbconvert_exporter": "python",
   "pygments_lexer": "ipython3",
   "version": "3.7.3"
  }
 },
 "nbformat": 4,
 "nbformat_minor": 2
}

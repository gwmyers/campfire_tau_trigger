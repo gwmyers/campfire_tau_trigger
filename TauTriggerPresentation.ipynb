{
 "cells": [
  {
   "cell_type": "code",
   "execution_count": 1,
   "metadata": {},
   "outputs": [
    {
     "name": "stdout",
     "output_type": "stream",
     "text": [
      "Welcome to JupyROOT 6.16/00\n"
     ]
    }
   ],
   "source": [
    "# A check to see if environment variables are setup correctly:\n",
    "import sys, math, random, ROOT, uproot, torch\n",
    "import numpy as np"
   ]
  },
  {
   "cell_type": "code",
   "execution_count": 2,
   "metadata": {},
   "outputs": [
    {
     "name": "stdout",
     "output_type": "stream",
     "text": [
      "7812\n",
      "69049\n"
     ]
    }
   ],
   "source": [
    "# now do stuff:\n",
    "signal_file = ROOT.TFile(\"formatted/tau_signal.root\")\n",
    "signal_tree = signal_file.Get(\"signal\")\n",
    "\n",
    "background_file = ROOT.TFile(\"formatted/background.root\")\n",
    "background_tree = background_file.Get(\"background\")\n",
    "\n",
    "signal_entries = signal_tree.GetEntries()\n",
    "background_entries = background_tree.GetEntries()\n",
    "print(signal_entries)\n",
    "print(background_entries)\n",
    "#signal_tree.Print()"
   ]
  },
  {
   "cell_type": "code",
   "execution_count": 3,
   "metadata": {},
   "outputs": [],
   "source": [
    "signal_layer_ets = []\n",
    "background_layer_ets = []\n",
    "all_layer_ets = []\n",
    "all_truth = []\n",
    "\n",
    "for i in range(signal_entries):\n",
    "    signal_tree.GetEntry(i)\n",
    "    layer_ets = [signal_tree.L0EM, signal_tree.L1EM, signal_tree.L2EM, signal_tree.L3EM, signal_tree.LHAD]\n",
    "    layer_ets = [et / 1000. for et in layer_ets]\n",
    "    \n",
    "    signal_layer_ets.append(layer_ets)\n",
    "    all_layer_ets.append(layer_ets)\n",
    "    \n",
    "    all_truth.append(1)\n",
    "    \n",
    "    \n",
    "for i in range(background_entries):\n",
    "    background_tree.GetEntry(i)\n",
    "    layer_ets = [background_tree.L0EM, background_tree.L1EM, background_tree.L2EM, background_tree.L3EM, background_tree.LHAD]\n",
    "    layer_ets = [et / 1000. for et in layer_ets]\n",
    "    \n",
    "    background_layer_ets.append(layer_ets)\n",
    "    all_layer_ets.append(layer_ets)\n",
    "    \n",
    "    all_truth.append(0)"
   ]
  },
  {
   "cell_type": "code",
   "execution_count": 4,
   "metadata": {},
   "outputs": [],
   "source": [
    "# Create a histogram of reconstructed Et of all signal and background events\n",
    "h_signal = ROOT.TH1F(\"signal_recoEt\", \"signal_recoEt\", 100, -20, 100)\n",
    "h_signal.GetXaxis().SetTitle(\"Reconstructed Et\")\n",
    "h_signal.GetYaxis().SetTitle(\"Events\")\n",
    "\n",
    "h_background = ROOT.TH1F(\"background_recoEt\", \"background_recoEt\", 100, -20, 100)\n",
    "h_background.GetXaxis().SetTitle(\"Reconstructed Et\")\n",
    "h_background.GetYaxis().SetTitle(\"Events\")\n",
    "\n",
    "c = ROOT.TCanvas(\"c\", \"canvas\", 400, 400)"
   ]
  },
  {
   "cell_type": "code",
   "execution_count": 5,
   "metadata": {},
   "outputs": [
    {
     "name": "stdout",
     "output_type": "stream",
     "text": [
      "7812.0\n",
      "69049.0\n"
     ]
    }
   ],
   "source": [
    "h_signal.Reset()\n",
    "for event in signal_layer_ets:\n",
    "    h_signal.Fill(sum(event))\n",
    "print(h_signal.GetEntries())\n",
    "    \n",
    "h_background.Reset()\n",
    "for event in background_layer_ets:\n",
    "    h_background.Fill(sum(event))\n",
    "print(h_background.GetEntries())"
   ]
  },
  {
   "cell_type": "code",
   "execution_count": 6,
   "metadata": {},
   "outputs": [
    {
     "data": {
      "image/png": "[encoded data removed]",
      "text/plain": [
       "<IPython.core.display.Image object>"
      ]
     },
     "metadata": {},
     "output_type": "display_data"
    }
   ],
   "source": [
    "h_background.Draw()\n",
    "h_signal.Draw('same')\n",
    "h_signal.SetLineColor(2)\n",
    "c.SetLogy()\n",
    "c.Draw()"
   ]
  },
  {
   "cell_type": "code",
   "execution_count": 7,
   "metadata": {},
   "outputs": [],
   "source": [
    "# Create data for initial ROC curves\n",
    "signal_roc_counts = np.zeros(100)\n",
    "background_roc_counts = np.zeros(100)\n",
    "\n",
    "signal_roc_counts[0] += 1\n",
    "\n",
    "for i, layers in enumerate(all_layer_ets):\n",
    "    total_et = sum(layers)\n",
    "    \n",
    "    for j in range(100):\n",
    "        if total_et > j:\n",
    "            if all_truth[i] == 1:\n",
    "                signal_roc_counts[j] += 1\n",
    "            elif all_truth[i] == 0:\n",
    "                background_roc_counts[j] += 1\n",
    "            \n",
    "# Convert event counts to efficiencies\n",
    "signal_roc_eff = np.array([float(sig_count / signal_roc_counts[0]) for sig_count in signal_roc_counts])\n",
    "background_roc_eff = np.array([float(back_count / background_roc_counts[0]) for back_count in background_roc_counts])\n",
    "\n",
    "#signal_roc_eff = list(signal_roc_eff)\n",
    "#background_roc_eff = list(background_roc_eff)\n",
    "\n",
    "#print(signal_roc_counts)\n",
    "#print(signal_roc_eff)\n",
    "#print(background_roc_counts)\n",
    "#print(background_roc_eff)"
   ]
  },
  {
   "cell_type": "code",
   "execution_count": 8,
   "metadata": {},
   "outputs": [
    {
     "name": "stdout",
     "output_type": "stream",
     "text": [
      " total nEvents: 76861\n",
      " training nEvents: 38430\n",
      " testing nEvents: 38431\n",
      "\n",
      "4264.73388671875\n",
      "1954.1448974609375\n",
      "1515.259033203125\n",
      "1389.8133544921875\n",
      "1317.889892578125\n"
     ]
    }
   ],
   "source": [
    "# separate data into training and testing sets: \n",
    "nTotalEvents = len(all_layer_ets)\n",
    "nTrainingEvents = 0\n",
    "nTestingEvents = 0\n",
    "\n",
    "test_all_layer_ets = []\n",
    "train_all_layer_ets = []\n",
    "test_all_truth = []\n",
    "train_all_truth = []\n",
    "\n",
    "index_shuf = list(range(nTotalEvents))\n",
    "random.shuffle(index_shuf)\n",
    "for i in index_shuf:\n",
    "    if i % 2 == 0:\n",
    "        test_all_layer_ets.append(all_layer_ets[i])\n",
    "        test_all_truth.append(all_truth[i])\n",
    "        nTestingEvents += 1\n",
    "    else:\n",
    "        train_all_layer_ets.append(all_layer_ets[i])\n",
    "        train_all_truth.append(all_truth[i])\n",
    "        nTrainingEvents += 1\n",
    "\n",
    "print(\" total nEvents: {0}\\n training nEvents: {1}\\n testing nEvents: {2}\\n\".format(nTotalEvents,nTrainingEvents,nTestingEvents))        \n",
    "        \n",
    "# cast all_data list to numpy array:\n",
    "npArray_all_layer_ets = np.array(all_layer_ets)\n",
    "npArray_test_all_layer_ets = np.array(test_all_layer_ets)\n",
    "npArray_train_all_layer_ets = np.array(train_all_layer_ets)\n",
    "\n",
    "# NN input vectors:\n",
    "X_train = torch.from_numpy(np.dstack([\n",
    "    npArray_train_all_layer_ets[:,0], \n",
    "    npArray_train_all_layer_ets[:,1], \n",
    "    npArray_train_all_layer_ets[:,2], \n",
    "    npArray_train_all_layer_ets[:,3],\n",
    "    npArray_train_all_layer_ets[:,4]])[0].astype(np.float32)) \n",
    "\n",
    "X_test = torch.from_numpy(np.dstack([\n",
    "    npArray_test_all_layer_ets[:,0], \n",
    "    npArray_test_all_layer_ets[:,1], \n",
    "    npArray_test_all_layer_ets[:,2], \n",
    "    npArray_test_all_layer_ets[:,3],\n",
    "    npArray_test_all_layer_ets[:,4]])[0].astype(np.float32))\n",
    "\n",
    "# NN test value: 0=background, 1=signal\n",
    "Y_test = torch.from_numpy(np.array(test_all_truth).astype(np.float32).reshape(-1, 1))\n",
    "Y_train = torch.from_numpy(np.array(train_all_truth).astype(np.float32).reshape(-1, 1))\n",
    "\n",
    "# NN parameters:\n",
    "neural_network = torch.nn.Sequential(    # the neural network topology:\n",
    "    torch.nn.Linear(5, 8),               # input → hidden: 5 dimensions → 8 dimensions\n",
    "    torch.nn.Sigmoid(),\n",
    "    torch.nn.Linear(8, 8),               # non-linearity applied to each of the 5 components\n",
    "    torch.nn.Sigmoid(),\n",
    "    torch.nn.Linear(8, 1))               # hidden → output: 5 dimensions → 1 dimension\n",
    "\n",
    "loss_fn = torch.nn.MSELoss(reduction=\"sum\")\n",
    "optimizer = torch.optim.Adam(neural_network.parameters(), lr=0.075)\n",
    "\n",
    "# train the network:\n",
    "for i in range(5000):                    # iterate 100 times to minimize loss: y_pred - y\n",
    "    y_pred = neural_network(X_train)           # neural_network is a function: X ↦ y\n",
    "    loss = loss_fn(y_pred, Y_train)\n",
    "    optimizer.zero_grad()\n",
    "    loss.backward()\n",
    "    optimizer.step()\n",
    "    if i % 1000 == 1:\n",
    "        print(loss.item())\n",
    "        "
   ]
  },
  {
   "cell_type": "code",
   "execution_count": 9,
   "metadata": {},
   "outputs": [
    {
     "name": "stderr",
     "output_type": "stream",
     "text": [
      "Info in <TCanvas::Print>: pdf file nn_weights.pdf has been created\n"
     ]
    },
    {
     "data": {
      "image/png": "[encoded data removed]",
      "text/plain": [
       "<IPython.core.display.Image object>"
      ]
     },
     "metadata": {},
     "output_type": "display_data"
    }
   ],
   "source": [
    "# check the NN output for event 0:    \n",
    "h_nnOutputWeights_sig = ROOT.TH1F(\"nn_sig\", \"nn_sig\", 100, -0.5, 1.5)\n",
    "h_nnOutputWeights_sig.SetLineColor(ROOT.kRed)\n",
    "h_nnOutputWeights_bkg = ROOT.TH1F(\"nn_bkg\", \"nn_bkg\", 100, -0.5, 1.5)\n",
    "h_nnOutputWeights_sig.GetXaxis().SetTitle(\"NN output weight\")\n",
    "h_nnOutputWeights_sig.GetYaxis().SetTitle(\"Events\")\n",
    "h_nnOutputWeights_bkg.GetXaxis().SetTitle(\"NN output weight\")\n",
    "h_nnOutputWeights_bkg.GetYaxis().SetTitle(\"Events\")\n",
    "h_nnOutputWeights_bkg.SetTitle(\"\")\n",
    "h_nnOutputWeights_sig.SetTitle(\"\")\n",
    "\n",
    "nn_leg = ROOT.TLegend(0.6, 0.8, 0.9, 0.9)\n",
    "nn_leg.SetTextSize(0.04)\n",
    "nn_leg.AddEntry(h_nnOutputWeights_sig, \"signal\",\"l\")\n",
    "nn_leg.AddEntry(h_nnOutputWeights_bkg, \"background\",\"l\")\n",
    "\n",
    "for i in range(len(X_test)):\n",
    "    if Y_test[i] == 1.0:\n",
    "        h_nnOutputWeights_sig.Fill(neural_network(X_test[i]))\n",
    "    else:\n",
    "        h_nnOutputWeights_bkg.Fill(neural_network(X_test[i]))\n",
    "\n",
    "c_nn = ROOT.TCanvas(\"c_nn\", \"c_nn\", 400, 400)\n",
    "ROOT.gStyle.SetOptStat(0)\n",
    "h_nnOutputWeights_bkg.Draw()\n",
    "h_nnOutputWeights_sig.Draw(\"same\")\n",
    "\n",
    "nn_leg.Draw(\"same\")\n",
    "c_nn.SetLogy()\n",
    "c_nn.Draw()\n",
    "\n",
    "c_nn.SaveAs(\"nn_weights.pdf\")"
   ]
  },
  {
   "cell_type": "code",
   "execution_count": 14,
   "metadata": {},
   "outputs": [
    {
     "name": "stdout",
     "output_type": "stream",
     "text": [
      "tensor([0.0003], grad_fn=<SelectBackward>)\n"
     ]
    }
   ],
   "source": [
    "# Create data for network-trained ROC curves\n",
    "\n",
    "# Run all testing samples through the trained network\n",
    "network_outputs = neural_network(X_test)\n",
    "\n",
    "# Create arrays to hold the number of events left after each Et cut\n",
    "signal_network_roc_counts = np.zeros(100)\n",
    "background_network_roc_counts = np.zeros(100)\n",
    "\n",
    "for i, value in enumerate(network_outputs):\n",
    "    #total_et = sum(layers)\n",
    "    if i == 0:\n",
    "        print(value)\n",
    "    \n",
    "    for j in range(100):\n",
    "        if value > (-0.2 + j*0.01):\n",
    "            if test_all_truth[i] == 1:\n",
    "                signal_network_roc_counts[j] += 1\n",
    "            elif test_all_truth[i] == 0:\n",
    "                background_network_roc_counts[j] += 1\n",
    "            \n",
    "# Convert event counts to efficiencies\n",
    "signal_network_roc_eff = np.array([float(sig_count / signal_network_roc_counts[0]) for sig_count in signal_network_roc_counts])\n",
    "background_network_roc_eff = np.array([float(back_count / background_network_roc_counts[0]) for back_count in background_network_roc_counts])"
   ]
  },
  {
   "cell_type": "code",
   "execution_count": 15,
   "metadata": {},
   "outputs": [],
   "source": [
    "# Read in BDT efficiency arrays from flat files\n",
    "#signal_bdt_efficiencies = []\n",
    "with open('bdt/bdt_sigeff.txt', 'r') as sig_file:\n",
    "    signal_bdt_roc_eff = sig_file.readlines()\n",
    "    \n",
    "with open('bdt/bdt_bkgeff.txt', 'r') as back_file:\n",
    "    background_bdt_roc_eff = back_file.readlines()\n",
    "\n",
    "signal_bdt_roc_eff = np.array([float(value) for value in signal_bdt_roc_eff])\n",
    "background_bdt_roc_eff = np.array([float(value) for value in background_bdt_roc_eff])\n",
    "\n",
    "\n",
    "# Cheat and add 1.0/1.0 efficiency value to BDTs to make the ROC curves look good\n",
    "signal_bdt_roc_eff = np.insert(signal_bdt_roc_eff, 0, 1)\n",
    "background_bdt_roc_eff = np.insert(background_bdt_roc_eff, 0, 1)\n",
    "\n",
    "#print(signal_bdt_roc_eff)\n",
    "#print(background_bdt_roc_eff)"
   ]
  },
  {
   "cell_type": "code",
   "execution_count": 33,
   "metadata": {},
   "outputs": [
    {
     "name": "stderr",
     "output_type": "stream",
     "text": [
      "Info in <TCanvas::Print>: pdf file roc_money_plot.pdf has been created\n"
     ]
    },
    {
     "data": {
      "image/png": "[encoded data removed]",
      "text/plain": [
       "<IPython.core.display.Image object>"
      ]
     },
     "metadata": {},
     "output_type": "display_data"
    }
   ],
   "source": [
    "c.SetLogy(0)\n",
    "# Plot ROC curves, should make the Y axis linear\n",
    "initial_roc_curve = ROOT.TGraph(100, background_roc_eff, signal_roc_eff)\n",
    "network_roc_curve = ROOT.TGraph(100, background_network_roc_eff, signal_network_roc_eff)\n",
    "bdt_roc_curve = ROOT.TGraph(101, background_bdt_roc_eff, signal_bdt_roc_eff)\n",
    "c.Clear()\n",
    "initial_roc_curve.Draw()\n",
    "initial_roc_curve.SetTitle('ROC Curves')\n",
    "initial_roc_curve.SetLineColor(8)\n",
    "initial_roc_curve.SetLineWidth(3)\n",
    "initial_roc_curve.GetXaxis().SetTitle('Background Efficiency')\n",
    "initial_roc_curve.GetYaxis().SetTitle('Signal Efficiency')\n",
    "network_roc_curve.Draw('l')\n",
    "network_roc_curve.SetLineColor(1)\n",
    "network_roc_curve.SetLineWidth(3)\n",
    "\n",
    "bdt_roc_curve.Draw('l')\n",
    "bdt_roc_curve.SetLineColor(9)\n",
    "bdt_roc_curve.SetLineWidth(3)\n",
    "\n",
    "#ROOT.gStyle.SetLabelSize(0.04, \"XY\");\n",
    "\n",
    "legend = ROOT.TLegend(.35, .1, .9, .25)\n",
    "legend.SetTextSize(0.04)\n",
    "legend.AddEntry(initial_roc_curve, 'Initial ROC Curve')\n",
    "legend.AddEntry(network_roc_curve, 'NN Trained ROC Curve')\n",
    "legend.AddEntry(bdt_roc_curve, 'BDT Trained ROC Curve')\n",
    "\n",
    "legend.Draw()\n",
    "c.Draw()\n",
    "c.SaveAs(\"roc_money_plot.pdf\")"
   ]
  },
  {
   "cell_type": "code",
   "execution_count": null,
   "metadata": {},
   "outputs": [],
   "source": []
  }
 ],
 "metadata": {
  "kernelspec": {
   "display_name": "Python 3",
   "language": "python",
   "name": "python3"
  },
  "language_info": {
   "codemirror_mode": {
    "name": "ipython",
    "version": 3
   },
   "file_extension": ".py",
   "mimetype": "text/x-python",
   "name": "python",
   "nbconvert_exporter": "python",
   "pygments_lexer": "ipython3",
   "version": "3.7.3"
  }
 },
 "nbformat": 4,
 "nbformat_minor": 2
}

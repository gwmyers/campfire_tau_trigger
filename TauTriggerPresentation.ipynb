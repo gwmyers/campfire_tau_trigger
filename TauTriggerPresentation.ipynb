{
 "cells": [
  {
   "cell_type": "code",
   "execution_count": 1,
   "metadata": {},
   "outputs": [
    {
     "name": "stdout",
     "output_type": "stream",
     "text": [
      "Welcome to JupyROOT 6.16/00\n"
     ]
    }
   ],
   "source": [
    "# A check to see if environment variables are setup correctly:\n",
    "import sys, math, random, ROOT, uproot, torch\n",
    "import numpy as np"
   ]
  },
  {
   "cell_type": "code",
   "execution_count": 2,
   "metadata": {},
   "outputs": [
    {
     "name": "stdout",
     "output_type": "stream",
     "text": [
      "7812\n",
      "69049\n"
     ]
    }
   ],
   "source": [
    "# now do stuff:\n",
    "signal_file = ROOT.TFile(\"formatted/tau_signal.root\")\n",
    "signal_tree = signal_file.Get(\"signal\")\n",
    "\n",
    "background_file = ROOT.TFile(\"formatted/background.root\")\n",
    "background_tree = background_file.Get(\"background\")\n",
    "\n",
    "signal_entries = signal_tree.GetEntries()\n",
    "background_entries = background_tree.GetEntries()\n",
    "print(signal_entries)\n",
    "print(background_entries)\n",
    "#signal_tree.Print()"
   ]
  },
  {
   "cell_type": "code",
   "execution_count": 3,
   "metadata": {},
   "outputs": [],
   "source": [
    "signal_layer_ets = []\n",
    "background_layer_ets = []\n",
    "all_layer_ets = []\n",
    "all_truth = []\n",
    "\n",
    "for i in range(signal_entries):\n",
    "    signal_tree.GetEntry(i)\n",
    "    layer_ets = [signal_tree.L0EM, signal_tree.L1EM, signal_tree.L2EM, signal_tree.L3EM, signal_tree.LHAD]\n",
    "    layer_ets = [et / 1000. for et in layer_ets]\n",
    "    \n",
    "    signal_layer_ets.append(layer_ets)\n",
    "    all_layer_ets.append(layer_ets)\n",
    "    \n",
    "    all_truth.append(1)\n",
    "    \n",
    "    \n",
    "for i in range(background_entries):\n",
    "    background_tree.GetEntry(i)\n",
    "    layer_ets = [background_tree.L0EM, background_tree.L1EM, background_tree.L2EM, background_tree.L3EM, background_tree.LHAD]\n",
    "    layer_ets = [et / 1000. for et in layer_ets]\n",
    "    \n",
    "    background_layer_ets.append(layer_ets)\n",
    "    all_layer_ets.append(layer_ets)\n",
    "    \n",
    "    all_truth.append(0)"
   ]
  },
  {
   "cell_type": "code",
   "execution_count": 4,
   "metadata": {},
   "outputs": [],
   "source": [
    "# Create a histogram of reconstructed Et of all signal and background events\n",
    "h_signal = ROOT.TH1F(\"signal_recoEt\", \"signal_recoEt\", 100, -20, 100)\n",
    "h_signal.GetXaxis().SetTitle(\"Reconstructed Et\")\n",
    "h_signal.GetYaxis().SetTitle(\"Events\")\n",
    "\n",
    "h_background = ROOT.TH1F(\"background_recoEt\", \"background_recoEt\", 100, -20, 100)\n",
    "h_background.GetXaxis().SetTitle(\"Reconstructed Et\")\n",
    "h_background.GetYaxis().SetTitle(\"Events\")\n",
    "\n",
    "c = ROOT.TCanvas(\"c\", \"canvas\", 400, 400)"
   ]
  },
  {
   "cell_type": "code",
   "execution_count": 5,
   "metadata": {},
   "outputs": [
    {
     "name": "stdout",
     "output_type": "stream",
     "text": [
      "7812.0\n",
      "69049.0\n"
     ]
    }
   ],
   "source": [
    "h_signal.Reset()\n",
    "for event in signal_layer_ets:\n",
    "    h_signal.Fill(sum(event))\n",
    "print(h_signal.GetEntries())\n",
    "    \n",
    "h_background.Reset()\n",
    "for event in background_layer_ets:\n",
    "    h_background.Fill(sum(event))\n",
    "print(h_background.GetEntries())"
   ]
  },
  {
   "cell_type": "code",
   "execution_count": 6,
   "metadata": {},
   "outputs": [
    {
     "data": {
      "image/png": "[encoded data removed]",
      "text/plain": [
       "<IPython.core.display.Image object>"
      ]
     },
     "metadata": {},
     "output_type": "display_data"
    }
   ],
   "source": [
    "h_background.Draw()\n",
    "h_signal.Draw('same')\n",
    "h_signal.SetLineColor(2)\n",
    "c.SetLogy()\n",
    "c.Draw()"
   ]
  },
  {
   "cell_type": "code",
   "execution_count": 7,
   "metadata": {},
   "outputs": [
    {
     "name": "stdout",
     "output_type": "stream",
     "text": [
      "22.5625\n"
     ]
    }
   ],
   "source": [
    "# Create data for initial ROC curves\n",
    "signal_roc_counts = np.zeros(100)\n",
    "background_roc_counts = np.zeros(100)\n",
    "\n",
    "signal_roc_counts[0] += 1\n",
    "\n",
    "for i, layers in enumerate(all_layer_ets):\n",
    "    total_et = sum(layers)\n",
    "    if i == 0:\n",
    "        print(total_et)\n",
    "    \n",
    "    for j in range(100):\n",
    "        if total_et > j:\n",
    "            if all_truth[i] == 1:\n",
    "                signal_roc_counts[j] += 1\n",
    "            elif all_truth[i] == 0:\n",
    "                background_roc_counts[j] += 1\n",
    "            \n",
    "# Convert event counts to efficiencies\n",
    "signal_roc_eff = np.array([float(sig_count / signal_roc_counts[0]) for sig_count in signal_roc_counts])\n",
    "background_roc_eff = np.array([float(back_count / background_roc_counts[0]) for back_count in background_roc_counts])\n",
    "\n",
    "#signal_roc_eff = list(signal_roc_eff)\n",
    "#background_roc_eff = list(background_roc_eff)\n",
    "\n",
    "#print(signal_roc_counts)\n",
    "#print(signal_roc_eff)\n",
    "#print(background_roc_counts)\n",
    "#print(background_roc_eff)"
   ]
  },
  {
   "cell_type": "code",
   "execution_count": 8,
   "metadata": {},
   "outputs": [
    {
     "data": {
      "image/png": "[encoded data removed]",
      "text/plain": [
       "<IPython.core.display.Image object>"
      ]
     },
     "metadata": {},
     "output_type": "display_data"
    }
   ],
   "source": [
    "# Plot initial ROC curve, should make the Y axis linear\n",
    "roc_curve = ROOT.TGraph(100, signal_roc_eff, background_roc_eff)\n",
    "c.Clear()\n",
    "roc_curve.Draw()\n",
    "\n",
    "c.Draw()"
   ]
  },
  {
   "cell_type": "code",
   "execution_count": 17,
   "metadata": {},
   "outputs": [
    {
     "name": "stdout",
     "output_type": "stream",
     "text": [
      "tensor([0.4796], grad_fn=<AddBackward0>)\n"
     ]
    }
   ],
   "source": [
    "# cast all_data list to numpy array:\n",
    "npArray_all_layer_ets = np.array(all_layer_ets)\n",
    "\n",
    "# NN input vectors:\n",
    "Xin = torch.from_numpy(np.dstack([\n",
    "    npArray_all_layer_ets[:,0], \n",
    "    npArray_all_layer_ets[:,1], \n",
    "    npArray_all_layer_ets[:,2], \n",
    "    npArray_all_layer_ets[:,3],\n",
    "    npArray_all_layer_ets[:,4]])[0].astype(np.float32)) \n",
    "\n",
    "# NN test value: 0=background, 1=signal\n",
    "Yout = torch.from_numpy(np.array(all_truth).astype(np.float32).reshape(-1, 1))\n",
    "\n",
    "# NN parameters:\n",
    "neural_network = torch.nn.Sequential(    # the neural network topology:\n",
    "    torch.nn.Linear(5, 5),               # input → hidden: 2 dimensions → 5 dimensions\n",
    "    torch.nn.Sigmoid(),                  # non-linearity applied to each of the 5 components\n",
    "    torch.nn.Linear(5, 1))               # hidden → output: 5 dimensions → 1 dimension\n",
    "\n",
    "loss_fn = torch.nn.MSELoss(reduction=\"sum\")\n",
    "optimizer = torch.optim.Adam(neural_network.parameters(), lr=0.001)\n",
    "\n",
    "# train the network:\n",
    "for i in range(1000):                    # iterate 100 times to minimize loss: y_pred - y\n",
    "    y_pred = neural_network(Xin)           # neural_network is a function: X ↦ y\n",
    "    loss = loss_fn(y_pred, Yout)\n",
    "    optimizer.zero_grad()\n",
    "    loss.backward()\n",
    "    optimizer.step()\n",
    "    \n",
    "# check the NN output for event 0:    \n",
    "print(neural_network(Xin[0]))\n",
    "    "
   ]
  },
  {
   "cell_type": "code",
   "execution_count": null,
   "metadata": {},
   "outputs": [],
   "source": []
  }
 ],
 "metadata": {
  "kernelspec": {
   "display_name": "Python 3",
   "language": "python",
   "name": "python3"
  },
  "language_info": {
   "codemirror_mode": {
    "name": "ipython",
    "version": 3
   },
   "file_extension": ".py",
   "mimetype": "text/x-python",
   "name": "python",
   "nbconvert_exporter": "python",
   "pygments_lexer": "ipython3",
   "version": "3.7.3"
  }
 },
 "nbformat": 4,
 "nbformat_minor": 2
}
